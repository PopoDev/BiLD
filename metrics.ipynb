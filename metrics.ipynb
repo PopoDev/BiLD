{
 "cells": [
  {
   "cell_type": "code",
   "execution_count": 1,
   "metadata": {},
   "outputs": [],
   "source": [
    "from datasets import load_metric, Dataset, load_dataset"
   ]
  },
  {
   "cell_type": "code",
   "execution_count": 2,
   "metadata": {},
   "outputs": [
    {
     "name": "stderr",
     "output_type": "stream",
     "text": [
      "Downloading readme: 100%|██████████| 617/617 [00:00<00:00, 3.79MB/s]\n",
      "Downloading data: 100%|██████████| 168M/168M [00:02<00:00, 61.2MB/s] \n",
      "Downloading data: 100%|██████████| 169M/169M [00:02<00:00, 59.7MB/s] \n",
      "Downloading data: 100%|██████████| 18.5M/18.5M [00:00<00:00, 25.6MB/s]\n",
      "Downloading data: 100%|██████████| 18.8M/18.8M [00:00<00:00, 39.7MB/s]\n",
      "Generating train split: 100%|██████████| 204045/204045 [00:08<00:00, 24715.40 examples/s]\n",
      "Generating validation split: 100%|██████████| 11332/11332 [00:00<00:00, 25393.05 examples/s]\n",
      "Generating test split: 100%|██████████| 11334/11334 [00:00<00:00, 24595.95 examples/s]\n"
     ]
    }
   ],
   "source": [
    "dataset = load_dataset(\"lilferrit/xsum_t5_distillation\")\n",
    "\n",
    "CANDIDATE_KEY = \"t5_large_output\"\n",
    "REFERENCE_KEY = \"summary\""
   ]
  },
  {
   "cell_type": "code",
   "execution_count": 4,
   "metadata": {},
   "outputs": [
    {
     "name": "stderr",
     "output_type": "stream",
     "text": [
      "/homes/iws/gstrau2/CSE481N_Project/.venv/lib64/python3.9/site-packages/datasets/load.py:759: FutureWarning: The repository for rouge contains custom code which must be executed to correctly load the metric. You can inspect the repository content at https://raw.githubusercontent.com/huggingface/datasets/2.19.0/metrics/rouge/rouge.py\n",
      "You can avoid this message in future by passing the argument `trust_remote_code=True`.\n",
      "Passing `trust_remote_code=True` will be mandatory to load this metric from the next major release of `datasets`.\n",
      "  warnings.warn(\n"
     ]
    }
   ],
   "source": [
    "metric  = load_metric(\"rouge\")"
   ]
  },
  {
   "cell_type": "code",
   "execution_count": 7,
   "metadata": {},
   "outputs": [
    {
     "data": {
      "text/plain": [
       "{'rougeL': AggregateScore(low=Score(precision=0.1084682875151522, recall=0.19980598041970232, fmeasure=0.1373516784481125), mid=Score(precision=0.10938747937590135, recall=0.20150121608001656, fmeasure=0.13850077249972198), high=Score(precision=0.11029631271497095, recall=0.203010639613228, fmeasure=0.1395323524756392))}"
      ]
     },
     "execution_count": 7,
     "metadata": {},
     "output_type": "execute_result"
    }
   ],
   "source": [
    "metric.compute(\n",
    "    predictions = dataset[\"test\"][CANDIDATE_KEY],\n",
    "    references = dataset[\"test\"][REFERENCE_KEY],\n",
    "    rouge_types = [\"rougeL\"]\n",
    ")"
   ]
  }
 ],
 "metadata": {
  "kernelspec": {
   "display_name": ".venv",
   "language": "python",
   "name": "python3"
  },
  "language_info": {
   "codemirror_mode": {
    "name": "ipython",
    "version": 3
   },
   "file_extension": ".py",
   "mimetype": "text/x-python",
   "name": "python",
   "nbconvert_exporter": "python",
   "pygments_lexer": "ipython3",
   "version": "3.9.18"
  }
 },
 "nbformat": 4,
 "nbformat_minor": 2
}
