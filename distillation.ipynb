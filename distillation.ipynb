{
 "cells": [
  {
   "cell_type": "code",
   "execution_count": 3,
   "metadata": {},
   "outputs": [
    {
     "name": "stderr",
     "output_type": "stream",
     "text": [
      "/homes/iws/gstrau2/CSE481N_Project/.venv/lib64/python3.9/site-packages/tqdm/auto.py:21: TqdmWarning: IProgress not found. Please update jupyter and ipywidgets. See https://ipywidgets.readthedocs.io/en/stable/user_install.html\n",
      "  from .autonotebook import tqdm as notebook_tqdm\n"
     ]
    }
   ],
   "source": [
    "import sys\n",
    "\n",
    "from transformers import AutoTokenizer, AutoModelForSeq2SeqLM\n",
    "from datasets import load_dataset\n",
    "from nlp481.distillation import (\n",
    "    getEmptyFrameDict,\n",
    "    cacheFrameDict,\n",
    "    loadFrameDict,\n",
    "    inferDataFrameDict,\n",
    "    loadDatasetFromCachedDataframe\n",
    ")"
   ]
  },
  {
   "cell_type": "code",
   "execution_count": 2,
   "metadata": {},
   "outputs": [],
   "source": [
    "\n",
    "tokenizer = AutoTokenizer.from_pretrained(\"kssteven/T5-large-cnndm\")\n",
    "model = AutoModelForSeq2SeqLM.from_pretrained(\"kssteven/T5-large-cnndm\")"
   ]
  },
  {
   "cell_type": "code",
   "execution_count": 3,
   "metadata": {},
   "outputs": [
    {
     "data": {
      "text/plain": [
       "T5ForConditionalGeneration(\n",
       "  (shared): Embedding(32100, 1024)\n",
       "  (encoder): T5Stack(\n",
       "    (embed_tokens): Embedding(32100, 1024)\n",
       "    (block): ModuleList(\n",
       "      (0): T5Block(\n",
       "        (layer): ModuleList(\n",
       "          (0): T5LayerSelfAttention(\n",
       "            (SelfAttention): T5Attention(\n",
       "              (q): Linear(in_features=1024, out_features=1024, bias=False)\n",
       "              (k): Linear(in_features=1024, out_features=1024, bias=False)\n",
       "              (v): Linear(in_features=1024, out_features=1024, bias=False)\n",
       "              (o): Linear(in_features=1024, out_features=1024, bias=False)\n",
       "              (relative_attention_bias): Embedding(32, 16)\n",
       "            )\n",
       "            (layer_norm): T5LayerNorm()\n",
       "            (dropout): Dropout(p=0.1, inplace=False)\n",
       "          )\n",
       "          (1): T5LayerFF(\n",
       "            (DenseReluDense): T5DenseActDense(\n",
       "              (wi): Linear(in_features=1024, out_features=4096, bias=False)\n",
       "              (wo): Linear(in_features=4096, out_features=1024, bias=False)\n",
       "              (dropout): Dropout(p=0.1, inplace=False)\n",
       "              (act): ReLU()\n",
       "            )\n",
       "            (layer_norm): T5LayerNorm()\n",
       "            (dropout): Dropout(p=0.1, inplace=False)\n",
       "          )\n",
       "        )\n",
       "      )\n",
       "      (1-23): 23 x T5Block(\n",
       "        (layer): ModuleList(\n",
       "          (0): T5LayerSelfAttention(\n",
       "            (SelfAttention): T5Attention(\n",
       "              (q): Linear(in_features=1024, out_features=1024, bias=False)\n",
       "              (k): Linear(in_features=1024, out_features=1024, bias=False)\n",
       "              (v): Linear(in_features=1024, out_features=1024, bias=False)\n",
       "              (o): Linear(in_features=1024, out_features=1024, bias=False)\n",
       "            )\n",
       "            (layer_norm): T5LayerNorm()\n",
       "            (dropout): Dropout(p=0.1, inplace=False)\n",
       "          )\n",
       "          (1): T5LayerFF(\n",
       "            (DenseReluDense): T5DenseActDense(\n",
       "              (wi): Linear(in_features=1024, out_features=4096, bias=False)\n",
       "              (wo): Linear(in_features=4096, out_features=1024, bias=False)\n",
       "              (dropout): Dropout(p=0.1, inplace=False)\n",
       "              (act): ReLU()\n",
       "            )\n",
       "            (layer_norm): T5LayerNorm()\n",
       "            (dropout): Dropout(p=0.1, inplace=False)\n",
       "          )\n",
       "        )\n",
       "      )\n",
       "    )\n",
       "    (final_layer_norm): T5LayerNorm()\n",
       "    (dropout): Dropout(p=0.1, inplace=False)\n",
       "  )\n",
       "  (decoder): T5Stack(\n",
       "    (embed_tokens): Embedding(32100, 1024)\n",
       "    (block): ModuleList(\n",
       "      (0): T5Block(\n",
       "        (layer): ModuleList(\n",
       "          (0): T5LayerSelfAttention(\n",
       "            (SelfAttention): T5Attention(\n",
       "              (q): Linear(in_features=1024, out_features=1024, bias=False)\n",
       "              (k): Linear(in_features=1024, out_features=1024, bias=False)\n",
       "              (v): Linear(in_features=1024, out_features=1024, bias=False)\n",
       "              (o): Linear(in_features=1024, out_features=1024, bias=False)\n",
       "              (relative_attention_bias): Embedding(32, 16)\n",
       "            )\n",
       "            (layer_norm): T5LayerNorm()\n",
       "            (dropout): Dropout(p=0.1, inplace=False)\n",
       "          )\n",
       "          (1): T5LayerCrossAttention(\n",
       "            (EncDecAttention): T5Attention(\n",
       "              (q): Linear(in_features=1024, out_features=1024, bias=False)\n",
       "              (k): Linear(in_features=1024, out_features=1024, bias=False)\n",
       "              (v): Linear(in_features=1024, out_features=1024, bias=False)\n",
       "              (o): Linear(in_features=1024, out_features=1024, bias=False)\n",
       "            )\n",
       "            (layer_norm): T5LayerNorm()\n",
       "            (dropout): Dropout(p=0.1, inplace=False)\n",
       "          )\n",
       "          (2): T5LayerFF(\n",
       "            (DenseReluDense): T5DenseActDense(\n",
       "              (wi): Linear(in_features=1024, out_features=4096, bias=False)\n",
       "              (wo): Linear(in_features=4096, out_features=1024, bias=False)\n",
       "              (dropout): Dropout(p=0.1, inplace=False)\n",
       "              (act): ReLU()\n",
       "            )\n",
       "            (layer_norm): T5LayerNorm()\n",
       "            (dropout): Dropout(p=0.1, inplace=False)\n",
       "          )\n",
       "        )\n",
       "      )\n",
       "      (1-23): 23 x T5Block(\n",
       "        (layer): ModuleList(\n",
       "          (0): T5LayerSelfAttention(\n",
       "            (SelfAttention): T5Attention(\n",
       "              (q): Linear(in_features=1024, out_features=1024, bias=False)\n",
       "              (k): Linear(in_features=1024, out_features=1024, bias=False)\n",
       "              (v): Linear(in_features=1024, out_features=1024, bias=False)\n",
       "              (o): Linear(in_features=1024, out_features=1024, bias=False)\n",
       "            )\n",
       "            (layer_norm): T5LayerNorm()\n",
       "            (dropout): Dropout(p=0.1, inplace=False)\n",
       "          )\n",
       "          (1): T5LayerCrossAttention(\n",
       "            (EncDecAttention): T5Attention(\n",
       "              (q): Linear(in_features=1024, out_features=1024, bias=False)\n",
       "              (k): Linear(in_features=1024, out_features=1024, bias=False)\n",
       "              (v): Linear(in_features=1024, out_features=1024, bias=False)\n",
       "              (o): Linear(in_features=1024, out_features=1024, bias=False)\n",
       "            )\n",
       "            (layer_norm): T5LayerNorm()\n",
       "            (dropout): Dropout(p=0.1, inplace=False)\n",
       "          )\n",
       "          (2): T5LayerFF(\n",
       "            (DenseReluDense): T5DenseActDense(\n",
       "              (wi): Linear(in_features=1024, out_features=4096, bias=False)\n",
       "              (wo): Linear(in_features=4096, out_features=1024, bias=False)\n",
       "              (dropout): Dropout(p=0.1, inplace=False)\n",
       "              (act): ReLU()\n",
       "            )\n",
       "            (layer_norm): T5LayerNorm()\n",
       "            (dropout): Dropout(p=0.1, inplace=False)\n",
       "          )\n",
       "        )\n",
       "      )\n",
       "    )\n",
       "    (final_layer_norm): T5LayerNorm()\n",
       "    (dropout): Dropout(p=0.1, inplace=False)\n",
       "  )\n",
       "  (lm_head): Linear(in_features=1024, out_features=32100, bias=False)\n",
       ")"
      ]
     },
     "execution_count": 3,
     "metadata": {},
     "output_type": "execute_result"
    }
   ],
   "source": [
    "DEVICE = \"cuda:0\"\n",
    "\n",
    "model.eval()\n",
    "model.to(DEVICE)"
   ]
  },
  {
   "cell_type": "code",
   "execution_count": 4,
   "metadata": {},
   "outputs": [],
   "source": [
    "dataset = load_dataset(\"cnn_dailymail\", \"3.0.0\")\n",
    "\n",
    "INPUT_KEY = \"article\"\n",
    "DATASET_NAME = \"cnndm_t5_distill\""
   ]
  },
  {
   "cell_type": "markdown",
   "metadata": {},
   "source": [
    "## Run Cells if Creating Fresh Frame Dict"
   ]
  },
  {
   "cell_type": "code",
   "execution_count": 6,
   "metadata": {},
   "outputs": [],
   "source": [
    "ds_frame_dict = getEmptyFrameDict(INPUT_KEY, \"t5_large_output\", dataset)"
   ]
  },
  {
   "cell_type": "code",
   "execution_count": 7,
   "metadata": {},
   "outputs": [],
   "source": [
    "cacheFrameDict(\"./cache\", ds_frame_dict, DATASET_NAME)"
   ]
  },
  {
   "cell_type": "markdown",
   "metadata": {},
   "source": [
    "## Run Cell if Using Cached Frame Dict"
   ]
  },
  {
   "cell_type": "code",
   "execution_count": 5,
   "metadata": {},
   "outputs": [],
   "source": [
    "ds_frame_dict = loadFrameDict(\"./cache\", dataset.keys(), DATASET_NAME)"
   ]
  },
  {
   "cell_type": "code",
   "execution_count": 6,
   "metadata": {},
   "outputs": [
    {
     "data": {
      "text/html": [
       "<div>\n",
       "<style scoped>\n",
       "    .dataframe tbody tr th:only-of-type {\n",
       "        vertical-align: middle;\n",
       "    }\n",
       "\n",
       "    .dataframe tbody tr th {\n",
       "        vertical-align: top;\n",
       "    }\n",
       "\n",
       "    .dataframe thead th {\n",
       "        text-align: right;\n",
       "    }\n",
       "</style>\n",
       "<table border=\"1\" class=\"dataframe\">\n",
       "  <thead>\n",
       "    <tr style=\"text-align: right;\">\n",
       "      <th></th>\n",
       "      <th>article</th>\n",
       "      <th>t5_large_output</th>\n",
       "    </tr>\n",
       "  </thead>\n",
       "  <tbody>\n",
       "    <tr>\n",
       "      <th>0</th>\n",
       "      <td>LONDON, England (Reuters) -- Harry Potter star...</td>\n",
       "      <td>Harry Potter star Daniel Radcliffe gains acces...</td>\n",
       "    </tr>\n",
       "    <tr>\n",
       "      <th>1</th>\n",
       "      <td>Editor's note: In our Behind the Scenes series...</td>\n",
       "      <td>Mentally ill inmates housed on Miami's \"forgot...</td>\n",
       "    </tr>\n",
       "    <tr>\n",
       "      <th>2</th>\n",
       "      <td>MINNEAPOLIS, Minnesota (CNN) -- Drivers who we...</td>\n",
       "      <td>Driver describes 30-, 35-foot free fall from M...</td>\n",
       "    </tr>\n",
       "    <tr>\n",
       "      <th>3</th>\n",
       "      <td>WASHINGTON (CNN) -- Doctors removed five small...</td>\n",
       "      <td>NEW: Bush will resume his activities at Camp D...</td>\n",
       "    </tr>\n",
       "    <tr>\n",
       "      <th>4</th>\n",
       "      <td>(CNN)  -- The National Football League has ind...</td>\n",
       "      <td>NEW: NFL Commissioner Roger Goodell says he'll...</td>\n",
       "    </tr>\n",
       "    <tr>\n",
       "      <th>...</th>\n",
       "      <td>...</td>\n",
       "      <td>...</td>\n",
       "    </tr>\n",
       "    <tr>\n",
       "      <th>287108</th>\n",
       "      <td>The nine-year-old daughter of a black, unarmed...</td>\n",
       "      <td>Rumain Brisbon, 34, was shot dead by a Phoenix...</td>\n",
       "    </tr>\n",
       "    <tr>\n",
       "      <th>287109</th>\n",
       "      <td>Legalising assisted suicide is a slippery slop...</td>\n",
       "      <td>Dutch death toll has doubled in six years.</td>\n",
       "    </tr>\n",
       "    <tr>\n",
       "      <th>287110</th>\n",
       "      <td>A group calling itself 'The Women of the 99 Pe...</td>\n",
       "      <td>The automated calls are illegal because they d...</td>\n",
       "    </tr>\n",
       "    <tr>\n",
       "      <th>287111</th>\n",
       "      <td>Most men enjoy a good pint of lager or real al...</td>\n",
       "      <td>Peter Hill, 56, John Hill, 81, John Drew, 48, ...</td>\n",
       "    </tr>\n",
       "    <tr>\n",
       "      <th>287112</th>\n",
       "      <td>A Facebook page seeking to preserve the 'Black...</td>\n",
       "      <td>Facebook page set up in support of tradition g...</td>\n",
       "    </tr>\n",
       "  </tbody>\n",
       "</table>\n",
       "<p>287113 rows × 2 columns</p>\n",
       "</div>"
      ],
      "text/plain": [
       "                                                  article  \\\n",
       "0       LONDON, England (Reuters) -- Harry Potter star...   \n",
       "1       Editor's note: In our Behind the Scenes series...   \n",
       "2       MINNEAPOLIS, Minnesota (CNN) -- Drivers who we...   \n",
       "3       WASHINGTON (CNN) -- Doctors removed five small...   \n",
       "4       (CNN)  -- The National Football League has ind...   \n",
       "...                                                   ...   \n",
       "287108  The nine-year-old daughter of a black, unarmed...   \n",
       "287109  Legalising assisted suicide is a slippery slop...   \n",
       "287110  A group calling itself 'The Women of the 99 Pe...   \n",
       "287111  Most men enjoy a good pint of lager or real al...   \n",
       "287112  A Facebook page seeking to preserve the 'Black...   \n",
       "\n",
       "                                          t5_large_output  \n",
       "0       Harry Potter star Daniel Radcliffe gains acces...  \n",
       "1       Mentally ill inmates housed on Miami's \"forgot...  \n",
       "2       Driver describes 30-, 35-foot free fall from M...  \n",
       "3       NEW: Bush will resume his activities at Camp D...  \n",
       "4       NEW: NFL Commissioner Roger Goodell says he'll...  \n",
       "...                                                   ...  \n",
       "287108  Rumain Brisbon, 34, was shot dead by a Phoenix...  \n",
       "287109         Dutch death toll has doubled in six years.  \n",
       "287110  The automated calls are illegal because they d...  \n",
       "287111  Peter Hill, 56, John Hill, 81, John Drew, 48, ...  \n",
       "287112  Facebook page set up in support of tradition g...  \n",
       "\n",
       "[287113 rows x 2 columns]"
      ]
     },
     "execution_count": 6,
     "metadata": {},
     "output_type": "execute_result"
    }
   ],
   "source": [
    "ds_frame_dict[\"train\"]"
   ]
  },
  {
   "cell_type": "code",
   "execution_count": 7,
   "metadata": {},
   "outputs": [
    {
     "name": "stderr",
     "output_type": "stream",
     "text": [
      "/homes/iws/gstrau2/CSE481N_Project/.venv/lib64/python3.9/site-packages/numpy/core/fromnumeric.py:59: FutureWarning: 'DataFrame.swapaxes' is deprecated and will be removed in a future version. Please use 'DataFrame.transpose' instead.\n",
      "  return bound(*args, **kwds)\n",
      "100%|██████████| 17945/17945 [00:01<00:00, 12169.50it/s]\n",
      "100%|██████████| 836/836 [31:43<00:00,  2.28s/it]\n",
      "/homes/iws/gstrau2/CSE481N_Project/.venv/lib64/python3.9/site-packages/numpy/core/fromnumeric.py:59: FutureWarning: 'DataFrame.swapaxes' is deprecated and will be removed in a future version. Please use 'DataFrame.transpose' instead.\n",
      "  return bound(*args, **kwds)\n",
      "100%|██████████| 719/719 [45:41<00:00,  3.81s/it]\n"
     ]
    },
    {
     "ename": "SystemExit",
     "evalue": "0",
     "output_type": "error",
     "traceback": [
      "An exception has occurred, use %tb to see the full traceback.\n",
      "\u001b[0;31mSystemExit\u001b[0m\u001b[0;31m:\u001b[0m 0\n"
     ]
    },
    {
     "name": "stderr",
     "output_type": "stream",
     "text": [
      "/homes/iws/gstrau2/CSE481N_Project/.venv/lib64/python3.9/site-packages/IPython/core/interactiveshell.py:3558: UserWarning: To exit: use 'exit', 'quit', or Ctrl-D.\n",
      "  warn(\"To exit: use 'exit', 'quit', or Ctrl-D.\", stacklevel=1)\n"
     ]
    }
   ],
   "source": [
    "inferDataFrameDict(\n",
    "    ds_frame_dict,\n",
    "    model,\n",
    "    tokenizer,\n",
    "    16,\n",
    "    cache_location = \"./cache\",\n",
    "    dataset_name = DATASET_NAME,\n",
    "    input_key = INPUT_KEY,\n",
    "    batches_per_cache_write = 64\n",
    ")\n",
    "\n",
    "# Move model out of VRAM (so NLPG admins don't get mad at us)\n",
    "model.to(\"cpu\")\n",
    "\n",
    "# For some reason moving the model to cpu doesn't actually free VRAM\n",
    "# so just exit from the process\n",
    "sys.exit(0)"
   ]
  },
  {
   "cell_type": "code",
   "execution_count": 8,
   "metadata": {},
   "outputs": [
    {
     "data": {
      "text/html": [
       "<div>\n",
       "<style scoped>\n",
       "    .dataframe tbody tr th:only-of-type {\n",
       "        vertical-align: middle;\n",
       "    }\n",
       "\n",
       "    .dataframe tbody tr th {\n",
       "        vertical-align: top;\n",
       "    }\n",
       "\n",
       "    .dataframe thead th {\n",
       "        text-align: right;\n",
       "    }\n",
       "</style>\n",
       "<table border=\"1\" class=\"dataframe\">\n",
       "  <thead>\n",
       "    <tr style=\"text-align: right;\">\n",
       "      <th></th>\n",
       "      <th>article</th>\n",
       "      <th>t5_large_output</th>\n",
       "    </tr>\n",
       "  </thead>\n",
       "  <tbody>\n",
       "    <tr>\n",
       "      <th>0</th>\n",
       "      <td>LONDON, England (Reuters) -- Harry Potter star...</td>\n",
       "      <td>Harry Potter star Daniel Radcliffe gains acces...</td>\n",
       "    </tr>\n",
       "    <tr>\n",
       "      <th>1</th>\n",
       "      <td>Editor's note: In our Behind the Scenes series...</td>\n",
       "      <td>Mentally ill inmates housed on Miami's \"forgot...</td>\n",
       "    </tr>\n",
       "    <tr>\n",
       "      <th>2</th>\n",
       "      <td>MINNEAPOLIS, Minnesota (CNN) -- Drivers who we...</td>\n",
       "      <td>Driver describes 30-, 35-foot free fall from M...</td>\n",
       "    </tr>\n",
       "    <tr>\n",
       "      <th>3</th>\n",
       "      <td>WASHINGTON (CNN) -- Doctors removed five small...</td>\n",
       "      <td>NEW: Bush will resume his activities at Camp D...</td>\n",
       "    </tr>\n",
       "    <tr>\n",
       "      <th>4</th>\n",
       "      <td>(CNN)  -- The National Football League has ind...</td>\n",
       "      <td>NEW: NFL Commissioner Roger Goodell says he'll...</td>\n",
       "    </tr>\n",
       "    <tr>\n",
       "      <th>...</th>\n",
       "      <td>...</td>\n",
       "      <td>...</td>\n",
       "    </tr>\n",
       "    <tr>\n",
       "      <th>287108</th>\n",
       "      <td>The nine-year-old daughter of a black, unarmed...</td>\n",
       "      <td>Rumain Brisbon, 34, was shot dead by a Phoenix...</td>\n",
       "    </tr>\n",
       "    <tr>\n",
       "      <th>287109</th>\n",
       "      <td>Legalising assisted suicide is a slippery slop...</td>\n",
       "      <td>Dutch death toll has doubled in six years.</td>\n",
       "    </tr>\n",
       "    <tr>\n",
       "      <th>287110</th>\n",
       "      <td>A group calling itself 'The Women of the 99 Pe...</td>\n",
       "      <td>The automated calls are illegal because they d...</td>\n",
       "    </tr>\n",
       "    <tr>\n",
       "      <th>287111</th>\n",
       "      <td>Most men enjoy a good pint of lager or real al...</td>\n",
       "      <td>Peter Hill, 56, John Hill, 81, John Drew, 48, ...</td>\n",
       "    </tr>\n",
       "    <tr>\n",
       "      <th>287112</th>\n",
       "      <td>A Facebook page seeking to preserve the 'Black...</td>\n",
       "      <td>Facebook page set up in support of tradition g...</td>\n",
       "    </tr>\n",
       "  </tbody>\n",
       "</table>\n",
       "<p>287113 rows × 2 columns</p>\n",
       "</div>"
      ],
      "text/plain": [
       "                                                  article  \\\n",
       "0       LONDON, England (Reuters) -- Harry Potter star...   \n",
       "1       Editor's note: In our Behind the Scenes series...   \n",
       "2       MINNEAPOLIS, Minnesota (CNN) -- Drivers who we...   \n",
       "3       WASHINGTON (CNN) -- Doctors removed five small...   \n",
       "4       (CNN)  -- The National Football League has ind...   \n",
       "...                                                   ...   \n",
       "287108  The nine-year-old daughter of a black, unarmed...   \n",
       "287109  Legalising assisted suicide is a slippery slop...   \n",
       "287110  A group calling itself 'The Women of the 99 Pe...   \n",
       "287111  Most men enjoy a good pint of lager or real al...   \n",
       "287112  A Facebook page seeking to preserve the 'Black...   \n",
       "\n",
       "                                          t5_large_output  \n",
       "0       Harry Potter star Daniel Radcliffe gains acces...  \n",
       "1       Mentally ill inmates housed on Miami's \"forgot...  \n",
       "2       Driver describes 30-, 35-foot free fall from M...  \n",
       "3       NEW: Bush will resume his activities at Camp D...  \n",
       "4       NEW: NFL Commissioner Roger Goodell says he'll...  \n",
       "...                                                   ...  \n",
       "287108  Rumain Brisbon, 34, was shot dead by a Phoenix...  \n",
       "287109         Dutch death toll has doubled in six years.  \n",
       "287110  The automated calls are illegal because they d...  \n",
       "287111  Peter Hill, 56, John Hill, 81, John Drew, 48, ...  \n",
       "287112  Facebook page set up in support of tradition g...  \n",
       "\n",
       "[287113 rows x 2 columns]"
      ]
     },
     "execution_count": 8,
     "metadata": {},
     "output_type": "execute_result"
    }
   ],
   "source": [
    "ds_frame_dict[\"train\"]"
   ]
  },
  {
   "cell_type": "code",
   "execution_count": 5,
   "metadata": {},
   "outputs": [
    {
     "name": "stderr",
     "output_type": "stream",
     "text": [
      "Generating train split: 287113 examples [00:23, 12353.65 examples/s]\n",
      "Generating validation split: 13368 examples [00:02, 5221.30 examples/s]\n",
      "Generating test split: 11490 examples [00:00, 11910.93 examples/s]\n"
     ]
    }
   ],
   "source": [
    "distill_dataset = loadDatasetFromCachedDataframe(\"./cache\", dataset.keys(), DATASET_NAME)"
   ]
  },
  {
   "cell_type": "code",
   "execution_count": 6,
   "metadata": {},
   "outputs": [
    {
     "data": {
      "text/plain": [
       "Dataset({\n",
       "    features: ['article', 't5_large_output'],\n",
       "    num_rows: 287113\n",
       "})"
      ]
     },
     "execution_count": 6,
     "metadata": {},
     "output_type": "execute_result"
    }
   ],
   "source": [
    "distill_dataset[\"train\"]"
   ]
  },
  {
   "cell_type": "code",
   "execution_count": 7,
   "metadata": {},
   "outputs": [],
   "source": [
    "for curr_name, curr_dataset in distill_dataset.items():\n",
    "    curr_base_dataset = dataset[curr_name]\n",
    "    curr_base_columns = set(curr_base_dataset.column_names)\n",
    "    curr_base_columns.remove(INPUT_KEY)\n",
    "\n",
    "    for curr_col_name in curr_base_columns:\n",
    "        curr_dataset = curr_dataset.add_column(\n",
    "            curr_col_name,\n",
    "            dataset[curr_name][curr_col_name]\n",
    "        )\n",
    "\n",
    "    distill_dataset[curr_name] = curr_dataset"
   ]
  },
  {
   "cell_type": "code",
   "execution_count": 8,
   "metadata": {},
   "outputs": [
    {
     "data": {
      "text/plain": [
       "Dataset({\n",
       "    features: ['article', 't5_large_output', 'id', 'highlights'],\n",
       "    num_rows: 287113\n",
       "})"
      ]
     },
     "execution_count": 8,
     "metadata": {},
     "output_type": "execute_result"
    }
   ],
   "source": [
    "distill_dataset[\"train\"]"
   ]
  },
  {
   "cell_type": "code",
   "execution_count": 9,
   "metadata": {},
   "outputs": [
    {
     "name": "stderr",
     "output_type": "stream",
     "text": [
      "Creating parquet from Arrow format: 100%|██████████| 96/96 [00:05<00:00, 18.15ba/s]\n",
      "Creating parquet from Arrow format: 100%|██████████| 96/96 [00:04<00:00, 21.16ba/s]\n",
      "Creating parquet from Arrow format: 100%|██████████| 96/96 [00:04<00:00, 22.20ba/s]\n",
      "Uploading the dataset shards: 100%|██████████| 3/3 [00:39<00:00, 13.17s/it]\n",
      "Creating parquet from Arrow format: 100%|██████████| 14/14 [00:00<00:00, 23.77ba/s]\n",
      "Uploading the dataset shards: 100%|██████████| 1/1 [00:02<00:00,  2.22s/it]\n",
      "Creating parquet from Arrow format: 100%|██████████| 12/12 [00:00<00:00, 23.32ba/s]\n",
      "Uploading the dataset shards: 100%|██████████| 1/1 [00:01<00:00,  1.91s/it]\n"
     ]
    },
    {
     "data": {
      "text/plain": [
       "CommitInfo(commit_url='https://huggingface.co/datasets/lilferrit/cnn_dailymail_t5_distillation/commit/7f69fe7b38ad72f82bfdc31f00d89866e751959a', commit_message='Upload dataset', commit_description='', oid='7f69fe7b38ad72f82bfdc31f00d89866e751959a', pr_url=None, pr_revision=None, pr_num=None)"
      ]
     },
     "execution_count": 9,
     "metadata": {},
     "output_type": "execute_result"
    }
   ],
   "source": [
    "distill_dataset.push_to_hub(\n",
    "    f\"lilferrit/cnn_dailymail_t5_distillation\",\n",
    "    revision = \"cnndm-checkpoints\"\n",
    ")"
   ]
  }
 ],
 "metadata": {
  "kernelspec": {
   "display_name": "yolo_swag",
   "language": "python",
   "name": "python3"
  },
  "language_info": {
   "codemirror_mode": {
    "name": "ipython",
    "version": 3
   },
   "file_extension": ".py",
   "mimetype": "text/x-python",
   "name": "python",
   "nbconvert_exporter": "python",
   "pygments_lexer": "ipython3",
   "version": "3.9.18"
  }
 },
 "nbformat": 4,
 "nbformat_minor": 2
}
