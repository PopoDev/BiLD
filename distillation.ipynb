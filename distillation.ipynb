{
 "cells": [
  {
   "cell_type": "code",
   "execution_count": null,
   "metadata": {},
   "outputs": [],
   "source": [
    "from transformers import AutoTokenizer, AutoModelForSeq2SeqLM\n",
    "from datasets import load_dataset\n",
    "from nlp481.distillation import (\n",
    "    getEmptyFrameDict,\n",
    "    cacheFrameDict,\n",
    "    loadFrameDict,\n",
    "    inferDataFrameDict,\n",
    "    loadDatasetFromCachedDataframe\n",
    ")"
   ]
  },
  {
   "cell_type": "code",
   "execution_count": null,
   "metadata": {},
   "outputs": [],
   "source": [
    "\n",
    "tokenizer = AutoTokenizer.from_pretrained(\"google-t5/t5-large\")\n",
    "model = AutoModelForSeq2SeqLM.from_pretrained(\"google-t5/t5-large\")"
   ]
  },
  {
   "cell_type": "code",
   "execution_count": null,
   "metadata": {},
   "outputs": [],
   "source": [
    "DEVICE = \"cuda:0\"\n",
    "\n",
    "model.eval()\n",
    "model.to(DEVICE)"
   ]
  },
  {
   "cell_type": "code",
   "execution_count": null,
   "metadata": {},
   "outputs": [],
   "source": [
    "dataset = load_dataset(\"EdinburghNLP/xsum\")\n",
    "\n",
    "INPUT_KEY = \"document\"\n",
    "DATASET_NAME = \"xsum_t5_distill\""
   ]
  },
  {
   "cell_type": "markdown",
   "metadata": {},
   "source": [
    "## Run Cells if Creating Fresh Frame Dict"
   ]
  },
  {
   "cell_type": "code",
   "execution_count": null,
   "metadata": {},
   "outputs": [],
   "source": [
    "ds_frame_dict = getEmptyFrameDict(INPUT_KEY, \"t5_large_output\", dataset)"
   ]
  },
  {
   "cell_type": "code",
   "execution_count": null,
   "metadata": {},
   "outputs": [],
   "source": [
    "cacheFrameDict(\"./cache\", ds_frame_dict, DATASET_NAME)"
   ]
  },
  {
   "cell_type": "markdown",
   "metadata": {},
   "source": [
    "## Run Cell if Using Cached Frame Dict"
   ]
  },
  {
   "cell_type": "code",
   "execution_count": null,
   "metadata": {},
   "outputs": [],
   "source": [
    "ds_frame_dict = loadFrameDict(\"./cache\", dataset.keys(), DATASET_NAME)"
   ]
  },
  {
   "cell_type": "code",
   "execution_count": null,
   "metadata": {},
   "outputs": [],
   "source": [
    "ds_frame_dict[\"train\"]"
   ]
  },
  {
   "cell_type": "code",
   "execution_count": null,
   "metadata": {},
   "outputs": [],
   "source": [
    "inferDataFrameDict(\n",
    "    ds_frame_dict,\n",
    "    model,\n",
    "    tokenizer,\n",
    "    16,\n",
    "    cache_location = \"./cache\",\n",
    "    dataset_name = DATASET_NAME,\n",
    "    input_key = INPUT_KEY,\n",
    "    batches_per_cache_write = 64\n",
    ")\n",
    "\n",
    "# Move model out of VRAM (so NLPG admins don't get mad at us)\n",
    "model.to(\"cpu\")"
   ]
  },
  {
   "cell_type": "code",
   "execution_count": null,
   "metadata": {},
   "outputs": [],
   "source": [
    "ds_frame_dict[\"train\"]"
   ]
  },
  {
   "cell_type": "code",
   "execution_count": null,
   "metadata": {},
   "outputs": [],
   "source": [
    "distill_dataset = loadDatasetFromCachedDataframe(\"./cache\", dataset.keys(), DATASET_NAME)"
   ]
  },
  {
   "cell_type": "code",
   "execution_count": null,
   "metadata": {},
   "outputs": [],
   "source": [
    "distill_dataset[\"train\"]"
   ]
  },
  {
   "cell_type": "code",
   "execution_count": null,
   "metadata": {},
   "outputs": [],
   "source": [
    "for curr_name, curr_dataset in cnn_distill_dataset.items():\n",
    "    curr_dataset = curr_dataset.add_column(\n",
    "        \"highlights\",\n",
    "        cnn_dataset[curr_name][\"highlights\"]\n",
    "    )\n",
    "\n",
    "    curr_dataset = curr_dataset.add_column(\n",
    "        \"id\",\n",
    "        cnn_dataset[curr_name][\"id\"]\n",
    "    )\n",
    "\n",
    "    cnn_distill_dataset[curr_name] = curr_dataset"
   ]
  },
  {
   "cell_type": "code",
   "execution_count": null,
   "metadata": {},
   "outputs": [],
   "source": [
    "cnn_distill_dataset.push_to_hub(\n",
    "    \"lilferrit/cnn_dailymail_t5_distillation\",\n",
    "    config_name = \"3.0.0\"\n",
    ")"
   ]
  }
 ],
 "metadata": {
  "kernelspec": {
   "display_name": "yolo_swag",
   "language": "python",
   "name": "python3"
  },
  "language_info": {
   "codemirror_mode": {
    "name": "ipython",
    "version": 3
   },
   "file_extension": ".py",
   "mimetype": "text/x-python",
   "name": "python",
   "nbconvert_exporter": "python",
   "pygments_lexer": "ipython3",
   "version": "3.9.18"
  }
 },
 "nbformat": 4,
 "nbformat_minor": 2
}
