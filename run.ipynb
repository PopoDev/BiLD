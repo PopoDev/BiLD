{
  "cells": [
    {
      "cell_type": "markdown",
      "metadata": {
        "id": "view-in-github",
        "colab_type": "text"
      },
      "source": [
        "<a href=\"https://colab.research.google.com/github/PopoDev/CSE481N_Project/blob/main/run.ipynb\" target=\"_parent\"><img src=\"https://colab.research.google.com/assets/colab-badge.svg\" alt=\"Open In Colab\"/></a>"
      ]
    },
    {
      "cell_type": "code",
      "execution_count": null,
      "metadata": {
        "id": "CwoIXS7yzBMR",
        "colab": {
          "base_uri": "https://localhost:8080/"
        },
        "outputId": "0df33abe-45e8-46c2-fb92-55966d0c3e09"
      },
      "outputs": [
        {
          "output_type": "stream",
          "name": "stdout",
          "text": [
            "Cloning into 'CSE481N_Project'...\n",
            "remote: Enumerating objects: 1601, done.\u001b[K\n",
            "remote: Counting objects: 100% (310/310), done.\u001b[K\n",
            "remote: Compressing objects: 100% (233/233), done.\u001b[K\n",
            "remote: Total 1601 (delta 144), reused 226 (delta 71), pack-reused 1291\u001b[K\n",
            "Receiving objects: 100% (1601/1601), 5.10 MiB | 18.14 MiB/s, done.\n",
            "Resolving deltas: 100% (760/760), done.\n"
          ]
        }
      ],
      "source": [
        "!git clone https://github.com/PopoDev/CSE481N_Project.git"
      ]
    },
    {
      "cell_type": "code",
      "execution_count": null,
      "metadata": {
        "colab": {
          "base_uri": "https://localhost:8080/"
        },
        "id": "u-m2lyXyzTud",
        "outputId": "4cae8697-5cb1-4364-924d-e41edaf6bef3"
      },
      "outputs": [
        {
          "output_type": "stream",
          "name": "stdout",
          "text": [
            "\u001b[0m\u001b[01;34mCSE481N_Project\u001b[0m/  \u001b[01;34msample_data\u001b[0m/\n"
          ]
        }
      ],
      "source": [
        "ls"
      ]
    },
    {
      "cell_type": "code",
      "execution_count": null,
      "metadata": {
        "colab": {
          "base_uri": "https://localhost:8080/"
        },
        "id": "dWWG5kJJzUwp",
        "outputId": "7d17ffbd-91fa-4f3e-8229-9bb551be1c56"
      },
      "outputs": [
        {
          "output_type": "stream",
          "name": "stdout",
          "text": [
            "/content/CSE481N_Project\n"
          ]
        }
      ],
      "source": [
        "cd CSE481N_Project"
      ]
    },
    {
      "cell_type": "code",
      "execution_count": null,
      "metadata": {
        "colab": {
          "base_uri": "https://localhost:8080/"
        },
        "id": "jQUgPSnWVn_u",
        "outputId": "2c77a455-105a-4a11-f000-5dc83539e84a"
      },
      "outputs": [
        {
          "output_type": "stream",
          "name": "stdout",
          "text": [
            "Already up to date.\n"
          ]
        }
      ],
      "source": [
        "!git pull"
      ]
    },
    {
      "cell_type": "code",
      "execution_count": null,
      "metadata": {
        "id": "WgzBiUVGzf8h"
      },
      "outputs": [],
      "source": [
        "!pip install -r requirements.txt"
      ]
    },
    {
      "cell_type": "code",
      "execution_count": null,
      "metadata": {
        "id": "KurMkX4cza1-",
        "colab": {
          "base_uri": "https://localhost:8080/"
        },
        "outputId": "8bdbb120-cdcb-4509-97d7-ab7e455134ca"
      },
      "outputs": [
        {
          "output_type": "stream",
          "name": "stdout",
          "text": [
            "GPU: Tesla_T4-1\n"
          ]
        }
      ],
      "source": [
        "import torch\n",
        "\n",
        "if torch.cuda.is_available():\n",
        "    # Get the name of the current GPU\n",
        "    gpu_name = torch.cuda.get_device_name(torch.cuda.current_device())\n",
        "    gpu_num = torch.cuda.device_count()\n",
        "    print(\"GPU:\", f\"{gpu_name.replace(' ', '_')}-{gpu_num}\")\n",
        "else:\n",
        "    print(\"No GPU available, using CPU.\")"
      ]
    },
    {
      "cell_type": "markdown",
      "metadata": {
        "id": "mMcpx8OAXyjd"
      },
      "source": [
        "## IWSLT2017"
      ]
    },
    {
      "cell_type": "code",
      "execution_count": null,
      "metadata": {
        "id": "LOkZUc_rXxLn"
      },
      "outputs": [],
      "source": [
        "!CUDA_VISIBLE_DEVICES=0 bash run_iwslt2017.sh vanilla"
      ]
    },
    {
      "cell_type": "markdown",
      "metadata": {
        "id": "qzh7RZ5oJRVj"
      },
      "source": [
        "## WMT14"
      ]
    },
    {
      "cell_type": "code",
      "execution_count": null,
      "metadata": {
        "id": "HNxf0iEL0FcE"
      },
      "outputs": [],
      "source": [
        "!CUDA_VISIBLE_DEVICES=0 bash run_wmt14.sh unaligned 0.7 3"
      ]
    },
    {
      "cell_type": "markdown",
      "metadata": {
        "id": "aBlOEPxWVkdo"
      },
      "source": [
        "## XSUM"
      ]
    },
    {
      "cell_type": "code",
      "source": [
        "!CUDA_VISIBLE_DEVICES=0 bash run_xsum.sh aligned 0.6 4"
      ],
      "metadata": {
        "id": "gQKwHeQNlyOS"
      },
      "execution_count": null,
      "outputs": []
    },
    {
      "cell_type": "markdown",
      "metadata": {
        "id": "dWwvOd4zoP6x"
      },
      "source": [
        "## CNNDM"
      ]
    },
    {
      "cell_type": "code",
      "execution_count": null,
      "metadata": {
        "id": "LkytzzX4Vs0i"
      },
      "outputs": [],
      "source": [
        "!CUDA_VISIBLE_DEVICES=0 bash run_cnndm.sh aligned 0.5 5 10"
      ]
    }
  ],
  "metadata": {
    "accelerator": "GPU",
    "colab": {
      "gpuType": "T4",
      "provenance": [],
      "include_colab_link": true
    },
    "kernelspec": {
      "display_name": "Python 3",
      "name": "python3"
    },
    "language_info": {
      "name": "python"
    }
  },
  "nbformat": 4,
  "nbformat_minor": 0
}